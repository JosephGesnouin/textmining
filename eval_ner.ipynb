{
 "cells": [
  {
   "cell_type": "code",
   "execution_count": 84,
   "metadata": {},
   "outputs": [],
   "source": [
    "import spacy\n",
    "import json\n",
    "from spacy import displacy\n",
    "from tqdm import tqdm_notebook, tqdm\n",
    "import glob\n",
    "from spacy.gold import GoldParse\n",
    "from spacy.scorer import Scorer\n",
    "from nltk import tokenize"
   ]
  },
  {
   "cell_type": "markdown",
   "metadata": {},
   "source": [
    "### Fonction evaluate"
   ]
  },
  {
   "cell_type": "code",
   "execution_count": 100,
   "metadata": {},
   "outputs": [],
   "source": [
    "def evaluate_by_ent(nlp, examples, ent='GENE'):\n",
    "    scorer = Scorer()\n",
    "    for input_, annot in tqdm_notebook(examples):\n",
    "        try:\n",
    "            text_entities = []\n",
    "            for entity in annot.get('entities'):\n",
    "                if ent in entity:\n",
    "                    text_entities.append(entity)\n",
    "            doc_gold_text = nlp.make_doc(input_)\n",
    "            gold = GoldParse(doc_gold_text, entities=text_entities)\n",
    "            pred_value = nlp(input_)\n",
    "            scorer.score(pred_value, gold)\n",
    "        except:\n",
    "            pass\n",
    "    return scorer.scores\n",
    "\n",
    "def evaluate(ner_model, examples):\n",
    "    scorer = Scorer()\n",
    "    for input_, annot in tqdm_notebook(examples):\n",
    "#         try:\n",
    "            doc_gold_text = ner_model.make_doc(input_)\n",
    "            gold = GoldParse(doc_gold_text, entities=annot[\"entities\"])\n",
    "            pred_value = ner_model(input_)\n",
    "            scorer.score(pred_value, gold)\n",
    "#         except:\n",
    "#             pass\n",
    "    return scorer.scores"
   ]
  },
  {
   "cell_type": "markdown",
   "metadata": {},
   "source": [
    "### Load data"
   ]
  },
  {
   "cell_type": "code",
   "execution_count": 5,
   "metadata": {},
   "outputs": [],
   "source": [
    "TEST_DATA = []\n",
    "files = glob.glob(\"test/normal/*.json\")\n",
    "for f in files:\n",
    "    with open(f) as fl:\n",
    "        js = json.load(fl)\n",
    "        for j in js:\n",
    "            TEST_DATA.append(tuple(j))"
   ]
  },
  {
   "cell_type": "markdown",
   "metadata": {},
   "source": [
    "### Load model "
   ]
  },
  {
   "cell_type": "code",
   "execution_count": 116,
   "metadata": {},
   "outputs": [],
   "source": [
    "nlp = spacy.load(\"models/fs_normal/epoch_32\")"
   ]
  },
  {
   "cell_type": "markdown",
   "metadata": {},
   "source": [
    "#### score general"
   ]
  },
  {
   "cell_type": "code",
   "execution_count": 79,
   "metadata": {},
   "outputs": [],
   "source": [
    "res = evaluate(nlp, TEST_DATA[0:50000])"
   ]
  },
  {
   "cell_type": "code",
   "execution_count": 26,
   "metadata": {},
   "outputs": [
    {
     "data": {
      "text/plain": [
       "{u'ents_f': 87.95439401791663,\n",
       " u'ents_p': 90.70779567839963,\n",
       " u'ents_r': 85.36322483293813,\n",
       " u'las': 0.0,\n",
       " u'tags_acc': 0.0,\n",
       " u'token_acc': 100.0,\n",
       " u'uas': 0.0}"
      ]
     },
     "execution_count": 26,
     "metadata": {},
     "output_type": "execute_result"
    }
   ],
   "source": [
    "res"
   ]
  },
  {
   "cell_type": "markdown",
   "metadata": {},
   "source": [
    "#### Evaluation on NCBItestset_corpus"
   ]
  },
  {
   "cell_type": "code",
   "execution_count": 124,
   "metadata": {},
   "outputs": [],
   "source": [
    "nlp = spacy.load(\"models/fs_normal_ncbi/epoch_7/\")"
   ]
  },
  {
   "cell_type": "code",
   "execution_count": 95,
   "metadata": {},
   "outputs": [
    {
     "data": {
      "application/vnd.jupyter.widget-view+json": {
       "model_id": "1b2bdc983cb3403d91d0be62a06e446c",
       "version_major": 2,
       "version_minor": 0
      },
      "text/plain": [
       "HBox(children=(IntProgress(value=0, max=1259), HTML(value=u'')))"
      ]
     },
     "metadata": {},
     "output_type": "display_data"
    }
   ],
   "source": [
    "with open(\"NCBItestset_corpus.txt\") as g:\n",
    "    NCBItest = g.readlines()\n",
    "\n",
    "TEST_NCB = []\n",
    "art = [\"\", {\"entities\":[]}]\n",
    "for line in tqdm_notebook(NCBItest):\n",
    "    \n",
    "    if \"|a|\" in line:\n",
    "        text = line.split(\"|a|\")[1]\n",
    "        art[0] = text.decode(\"utf-8\")\n",
    "    \n",
    "    if \"Modifier\" in line or \"SpecificDisease\" in line or \"DiseaseClass\" in line:\n",
    "        d = tokenize.word_tokenize(line)[:-1]\n",
    "        entity = [int(d[1]), int(d[2]), \"DISEASE\"]\n",
    "        art[1][\"entities\"].append(entity)\n",
    "    if line == '\\n':\n",
    "        TEST_NCB.append(tuple(art))\n",
    "        art = [\"\", {\"entities\":[]}]"
   ]
  },
  {
   "cell_type": "code",
   "execution_count": null,
   "metadata": {},
   "outputs": [],
   "source": []
  },
  {
   "cell_type": "code",
   "execution_count": 125,
   "metadata": {},
   "outputs": [
    {
     "data": {
      "application/vnd.jupyter.widget-view+json": {
       "model_id": "d637f73f28384ea9ad7af80383cafafe",
       "version_major": 2,
       "version_minor": 0
      },
      "text/plain": [
       "HBox(children=(IntProgress(value=0, max=99), HTML(value=u'')))"
      ]
     },
     "metadata": {},
     "output_type": "display_data"
    }
   ],
   "source": [
    "res = evaluate_by_ent(nlp, TEST_NCB, \"DISEASE\")"
   ]
  },
  {
   "cell_type": "code",
   "execution_count": 126,
   "metadata": {},
   "outputs": [
    {
     "data": {
      "text/plain": [
       "{u'ents_f': 0.0,\n",
       " u'ents_p': 0.0,\n",
       " u'ents_r': 0.0,\n",
       " u'las': 0.0,\n",
       " u'tags_acc': 0.0,\n",
       " u'token_acc': 100.0,\n",
       " u'uas': 0.0}"
      ]
     },
     "execution_count": 126,
     "metadata": {},
     "output_type": "execute_result"
    }
   ],
   "source": [
    "res"
   ]
  },
  {
   "cell_type": "code",
   "execution_count": 127,
   "metadata": {},
   "outputs": [],
   "source": [
    "doc = nlp(TEST_NCB[0][0])"
   ]
  },
  {
   "cell_type": "code",
   "execution_count": 128,
   "metadata": {},
   "outputs": [
    {
     "name": "stdout",
     "output_type": "stream",
     "text": [
      "('Entities', [(u'ATP7B', u'GENE'), (u'ATP7B', u'GENE'), (u'ATP7B', u'GENE'), (u'ATP7B', u'GENE'), (u'ATP7B', u'GENE'), (u'ATP7B', u'GENE')])\n"
     ]
    }
   ],
   "source": [
    "print(\"Entities\", [(ent.text, ent.label_) for ent in doc.ents])"
   ]
  },
  {
   "cell_type": "code",
   "execution_count": null,
   "metadata": {},
   "outputs": [],
   "source": []
  },
  {
   "cell_type": "code",
   "execution_count": 120,
   "metadata": {},
   "outputs": [
    {
     "data": {
      "text/plain": [
       "(u'Abnormal hepatic copper accumulation is recognized as an inherited disorder in man, mouse, rat and dog. The major cause of hepatic copper accumulation in man is a dysfunctional ATP7B gene, causing Wilson disease (WD). Mutations in the ATP7B genes have also been demonstrated in mouse and rat. The ATP7B gene has been excluded in the much rarer human copper overload disease non-Indian childhood cirrhosis, indicating genetic heterogeneity. By investigating the common autosomal recessive copper toxicosis (CT) in Bedlington terriers, we have identified a new locus involved in progressive liver disease. We examined whether the WD gene ATP7B was also causative for CT by investigating the chromosomal co-localization of ATP7B and C04107, using fluorescence in situ hybridization (FISH). C04107 is an anonymous microsatellite marker closely linked to CT. However, BAC clones containing ATP7B and C04107 mapped to the canine chromosome regions CFA22q11 and CFA10q26, respectively, demonstrating that WD cannot be homologous to CT. The copper transport genes CTR1 and CTR2 were also excluded as candidate genes for CT since they both mapped to canine chromosome region CFA11q22. 2-22. 5. A transcribed sequence identified from the C04107-containing BAC was found to be homologous to a gene expressed from human chromosome 2p13-p16, a region devoid of any positional candidate genes. \\n',\n",
       " {'entities': [[23, 39, 'DISEASE'],\n",
       "   [158, 185, 'DISEASE'],\n",
       "   [206, 224, 'DISEASE'],\n",
       "   [272, 299, 'DISEASE'],\n",
       "   [346, 360, 'DISEASE'],\n",
       "   [362, 364, 'DISEASE'],\n",
       "   [499, 514, 'DISEASE'],\n",
       "   [523, 553, 'DISEASE'],\n",
       "   [637, 653, 'DISEASE'],\n",
       "   [655, 657, 'DISEASE'],\n",
       "   [738, 751, 'DISEASE'],\n",
       "   [777, 779, 'DISEASE'],\n",
       "   [814, 816, 'DISEASE'],\n",
       "   [999, 1001, 'DISEASE'],\n",
       "   [1147, 1149, 'DISEASE'],\n",
       "   [1174, 1176, 'DISEASE'],\n",
       "   [1261, 1263, 'DISEASE']]})"
      ]
     },
     "execution_count": 120,
     "metadata": {},
     "output_type": "execute_result"
    }
   ],
   "source": [
    "TEST_NCB[0]"
   ]
  },
  {
   "cell_type": "code",
   "execution_count": null,
   "metadata": {},
   "outputs": [],
   "source": []
  },
  {
   "cell_type": "code",
   "execution_count": 86,
   "metadata": {},
   "outputs": [],
   "source": [
    "# c = 0\n",
    "# val = []\n",
    "# ent = sorted(TEST_DATA[5][1][\"entities\"], reverse=True)\n",
    "# for t in text.split(\" \"):\n",
    "#     c += len(t)-1\n",
    "#     if ent:\n",
    "#         if c+1 > ent[-1][0]: \n",
    "#             val.append((t, ent[-1][2]))\n",
    "#             ent.pop()\n",
    "#         else:\n",
    "#             val.append((t, \"default\"))\n",
    "#     else:\n",
    "#         val.append((t, \"default\"))"
   ]
  },
  {
   "cell_type": "code",
   "execution_count": null,
   "metadata": {},
   "outputs": [],
   "source": []
  },
  {
   "cell_type": "code",
   "execution_count": 25,
   "metadata": {},
   "outputs": [],
   "source": [
    "# doc = nlp2(unicode(datas[8:2000]))"
   ]
  },
  {
   "cell_type": "code",
   "execution_count": 25,
   "metadata": {},
   "outputs": [],
   "source": [
    "# print(\"Entities\", [(ent.text, ent.label_) for ent in doc.ents])"
   ]
  },
  {
   "cell_type": "code",
   "execution_count": 24,
   "metadata": {},
   "outputs": [],
   "source": [
    "# [(t.text, t.ent_type_ if t.ent_type_ else \"default\") for t in doc]"
   ]
  },
  {
   "cell_type": "code",
   "execution_count": 10,
   "metadata": {},
   "outputs": [],
   "source": [
    "# displacy.render(doc, style='ent', jupyter=True)"
   ]
  },
  {
   "cell_type": "code",
   "execution_count": 17,
   "metadata": {},
   "outputs": [],
   "source": [
    "# nlp = spacy.load('en')\n",
    "# doc = nlp(u'This is a sentence.')\n",
    "# displacy.serve(doc, style='ent')"
   ]
  }
 ],
 "metadata": {
  "kernelspec": {
   "display_name": "Python 3",
   "language": "python",
   "name": "python3"
  },
  "language_info": {
   "codemirror_mode": {
    "name": "ipython",
    "version": 2
   },
   "file_extension": ".py",
   "mimetype": "text/x-python",
   "name": "python",
   "nbconvert_exporter": "python",
   "pygments_lexer": "ipython2",
   "version": "2.7.15rc1"
  }
 },
 "nbformat": 4,
 "nbformat_minor": 2
}
